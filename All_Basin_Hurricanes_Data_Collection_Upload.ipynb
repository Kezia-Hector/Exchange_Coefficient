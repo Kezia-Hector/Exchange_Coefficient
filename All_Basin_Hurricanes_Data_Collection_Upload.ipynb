{
  "cells": [
    {
      "cell_type": "markdown",
      "metadata": {
        "id": "view-in-github",
        "colab_type": "text"
      },
      "source": [
        "<a href=\"https://colab.research.google.com/github/Kezia-Hector/Exchange_Coefficient/blob/main/All_Basin_Hurricanes_Data_Collection_Upload.ipynb\" target=\"_parent\"><img src=\"https://colab.research.google.com/assets/colab-badge.svg\" alt=\"Open In Colab\"/></a>"
      ]
    },
    {
      "cell_type": "code",
      "execution_count": null,
      "metadata": {
        "colab": {
          "base_uri": "https://localhost:8080/"
        },
        "id": "IjfyerJqi0_g",
        "outputId": "94b0842a-4c7b-4f3c-f4c1-8626f0a6657f"
      },
      "outputs": [
        {
          "output_type": "stream",
          "name": "stdout",
          "text": [
            "Mounted at /content/drive\n"
          ]
        }
      ],
      "source": [
        "from google.colab import drive\n",
        "drive.mount('/content/drive')"
      ]
    },
    {
      "cell_type": "code",
      "execution_count": null,
      "metadata": {
        "colab": {
          "base_uri": "https://localhost:8080/"
        },
        "id": "z3ePe5YRIZ_q",
        "outputId": "51a7bb8f-2167-485b-a569-5bb00a82b36c"
      },
      "outputs": [
        {
          "output_type": "stream",
          "name": "stdout",
          "text": [
            "Looking in indexes: https://pypi.org/simple, https://us-python.pkg.dev/colab-wheels/public/simple/\n",
            "Requirement already satisfied: netCDF4 in /usr/local/lib/python3.7/dist-packages (1.6.1)\n",
            "Requirement already satisfied: cftime in /usr/local/lib/python3.7/dist-packages (from netCDF4) (1.6.2)\n",
            "Requirement already satisfied: numpy>=1.9 in /usr/local/lib/python3.7/dist-packages (from netCDF4) (1.21.6)\n",
            "Looking in indexes: https://pypi.org/simple, https://us-python.pkg.dev/colab-wheels/public/simple/\n",
            "Requirement already satisfied: scipy in /usr/local/lib/python3.7/dist-packages (1.7.3)\n",
            "Requirement already satisfied: numpy<1.23.0,>=1.16.5 in /usr/local/lib/python3.7/dist-packages (from scipy) (1.21.6)\n"
          ]
        }
      ],
      "source": [
        "!pip install netCDF4\n",
        "!pip install scipy\n",
        "import netCDF4 as nc"
      ]
    },
    {
      "cell_type": "code",
      "execution_count": null,
      "metadata": {
        "id": "nEsj6pIgbPu4"
      },
      "outputs": [],
      "source": [
        "import os\n",
        "import netCDF4 as nc\n",
        "import numpy as np"
      ]
    },
    {
      "cell_type": "code",
      "execution_count": null,
      "metadata": {
        "colab": {
          "base_uri": "https://localhost:8080/"
        },
        "id": "gJBiBwudLdQR",
        "outputId": "0c0ae369-184d-4221-c98d-9700cfee1636"
      },
      "outputs": [
        {
          "output_type": "stream",
          "name": "stdout",
          "text": [
            "url: https://cds.climate.copernicus.eu/api/v2\n",
            "key: 131673:6958e515-b1c8-4e77-b4e2-3f0359c337d4\n",
            "Looking in indexes: https://pypi.org/simple, https://us-python.pkg.dev/colab-wheels/public/simple/\n",
            "Collecting cdsapi\n",
            "  Downloading cdsapi-0.5.1.tar.gz (12 kB)\n",
            "Requirement already satisfied: requests>=2.5.0 in /usr/local/lib/python3.7/dist-packages (from cdsapi) (2.23.0)\n",
            "Requirement already satisfied: tqdm in /usr/local/lib/python3.7/dist-packages (from cdsapi) (4.64.1)\n",
            "Requirement already satisfied: idna<3,>=2.5 in /usr/local/lib/python3.7/dist-packages (from requests>=2.5.0->cdsapi) (2.10)\n",
            "Requirement already satisfied: urllib3!=1.25.0,!=1.25.1,<1.26,>=1.21.1 in /usr/local/lib/python3.7/dist-packages (from requests>=2.5.0->cdsapi) (1.24.3)\n",
            "Requirement already satisfied: certifi>=2017.4.17 in /usr/local/lib/python3.7/dist-packages (from requests>=2.5.0->cdsapi) (2022.9.24)\n",
            "Requirement already satisfied: chardet<4,>=3.0.2 in /usr/local/lib/python3.7/dist-packages (from requests>=2.5.0->cdsapi) (3.0.4)\n",
            "Building wheels for collected packages: cdsapi\n",
            "  Building wheel for cdsapi (setup.py) ... \u001b[?25l\u001b[?25hdone\n",
            "  Created wheel for cdsapi: filename=cdsapi-0.5.1-py2.py3-none-any.whl size=11699 sha256=4f740727445da44a47b3c78dac02014650e5df81e129596845ba2717262d8eae\n",
            "  Stored in directory: /root/.cache/pip/wheels/1d/2e/3c/3746e0cd076320584d6f47b688da7b13a5d5d1a92606779ca4\n",
            "Successfully built cdsapi\n",
            "Installing collected packages: cdsapi\n",
            "Successfully installed cdsapi-0.5.1\n"
          ]
        }
      ],
      "source": [
        "url = 'url: https://cds.climate.copernicus.eu/api/v2'\n",
        "\n",
        "key = #insert key here\n",
        "\n",
        "with open('/root/.cdsapirc', 'w') as f:\n",
        "    f.write('\\n'.join([url, key]))\n",
        "\n",
        "with open('/root/.cdsapirc') as f:\n",
        "    print(f.read())\n",
        "\n",
        "!pip install cdsapi"
      ]
    },
    {
      "cell_type": "code",
      "execution_count": null,
      "metadata": {
        "id": "SSh-szqcbVbL"
      },
      "outputs": [],
      "source": [
        "TC_data_dir = '/content/drive/MyDrive/Colab Notebooks/tcdata_netcdf/'#Shared with me/MCFC IFs/Value Chain Resilience/Resiliency UROP/Kezia'\n",
        "basins = ['shtracks','wptracks','attracks','iotracks','eptracks']"
      ]
    },
    {
      "cell_type": "code",
      "execution_count": null,
      "metadata": {
        "id": "UP0lhqDbyEDb"
      },
      "outputs": [],
      "source": [
        "errorstorms = []"
      ]
    },
    {
      "cell_type": "code",
      "execution_count": null,
      "metadata": {
        "colab": {
          "base_uri": "https://localhost:8080/"
        },
        "id": "IihdUzZybetI",
        "outputId": "ec93a3ee-4e92-47ef-8eb7-785f3af6e090"
      },
      "outputs": [
        {
          "output_type": "stream",
          "name": "stderr",
          "text": []
        }
      ],
      "source": [
        "for basin in basins:\n",
        "  fn = TC_data_dir+basin+'.nc'\n",
        "  ds = nc.Dataset(fn)\n",
        "  # get list of storm names\n",
        "  sn_data= ds.variables['stnamec'][:]\n",
        "  N_chars_per_name = sn_data.shape[0]\n",
        "  N_dat_pts = sn_data.shape[1]\n",
        "  storm_names = []\n",
        "  for i in range(N_dat_pts):\n",
        "    name_bytes = sn_data.transpose()[i]\n",
        "    name_string = name_bytes.tobytes().decode(\"utf-8\")\n",
        "    storm_names.append(name_string)\n",
        "  #print(storm_names)\n",
        "      # see what variables are there\n",
        "      #print(ds.variables.keys())\n",
        "      # look at a specific variable\n",
        "      # get the data out of the variable\n",
        "  lat = ds.variables['latmc'][:]\n",
        "  lon= ds.variables['longmc'][:] # longitude\n",
        "  month= ds.variables['monthmc'][:] # month\n",
        "  day= ds.variables['daymc'][:] # day\n",
        "  hour= ds.variables['hourmc'][:] # hour\n",
        "  v= ds.variables['vsmc'][:] # speed m/s\n",
        "  year = ds.variables[\"yearic\"][:]\n",
        "  #Database only has from 1959 forward so change the startpt to 1959 rather than the beginning of the dataset\n",
        "  startpt = np.argwhere(np.array(year).transpose() >= 1959)\n",
        "  updated_storm_names = storm_names[startpt[0][0]:]\n",
        "  #Storms we have already looked at\n",
        "  Done_Storm_Names = []\n",
        "  if 'Not_named' in storm_names[0]:\n",
        "    Done_Storm_Names.append(storm_names[0])\n",
        "\n",
        "  for char in updated_storm_names:\n",
        "    if char not in Done_Storm_Names:\n",
        "      match = [i for i, s in enumerate(updated_storm_names) if char in s]\n",
        "      n = len(match)\n",
        "      i=0\n",
        "      Done_Storm_Names.append(char)\n",
        "      while i< n:\n",
        "        Storm_number = match[i]\n",
        "        Storm_lat_array = np.array(lat).transpose()[Storm_number + startpt[0][0]][:]\n",
        "        Storm_lon_array = np.array(lon).transpose()[Storm_number + startpt[0][0]][:]\n",
        "        Storm_month_array = np.array(month).transpose()[Storm_number + startpt[0][0]][:]\n",
        "        Storm_day_array = np.array(day).transpose()[Storm_number + startpt[0][0]][:]\n",
        "        Storm_hour_array = np.array(hour).transpose()[Storm_number + startpt[0][0]][:]\n",
        "        Storm_v_array = np.array(v).transpose()[Storm_number + startpt[0][0]][:]\n",
        "        Storm_year = np.array(year).transpose()[Storm_number + startpt[0][0]]\n",
        "        if Storm_year < 1959.0:\n",
        "          i+=1\n",
        "          continue\n",
        "        else:\n",
        "          max_v = max(Storm_v_array)\n",
        "          max_v_location = np.argwhere(Storm_v_array == max_v)[0][0]\n",
        "          max_v_hour = Storm_hour_array[max_v_location]\n",
        "          max_v_day = Storm_day_array[max_v_location]\n",
        "          max_v_month = Storm_month_array[max_v_location]\n",
        "          if max_v_hour < 10:\n",
        "            max_v_hour = '0'+str(int(max_v_hour))+':00'\n",
        "          elif max_v_hour >= 10:\n",
        "            max_v_hour = str(int(max_v_hour))+':00'\n",
        "          if max_v_day < 10:\n",
        "            max_v_day = '0' + str(int(max_v_day))\n",
        "          elif max_v_day >= 10:\n",
        "            max_v_day = str(int(max_v_day))\n",
        "          if max_v_month < 10:\n",
        "            max_v_month = '0' + str(int(max_v_month))\n",
        "          elif max_v_month >= 10:\n",
        "            max_v_month = str(int(max_v_month))\n",
        "          try:\n",
        "            import cdsapi\n",
        "            c = cdsapi.Client()\n",
        "            c.retrieve(\n",
        "            'reanalysis-era5-single-levels',\n",
        "              {\n",
        "                'product_type': 'reanalysis',\n",
        "                'variable': [\n",
        "                    '10m_u_component_of_wind', '10m_v_component_of_wind', '2m_dewpoint_temperature',\n",
        "                    '2m_temperature', 'sea_surface_temperature', 'surface_pressure',\n",
        "                ],\n",
        "                'year': '{0}'.format(int(Storm_year)),\n",
        "                'month': '{0}'.format(max_v_month),\n",
        "                'day': '{0}'.format(max_v_day),\n",
        "                'time': '{0}'.format(max_v_hour),\n",
        "                'format': 'netcdf',\n",
        "                \n",
        "              },\n",
        "              '/content/drive/MyDrive/Colab Notebooks/{0} Hurricane Data/{1}EverythingElse.nc'.format(basin,char+str(Storm_year)))\n",
        "      \n",
        "            c.retrieve( \n",
        "            'reanalysis-era5-pressure-levels',\n",
        "              {\n",
        "                'product_type': 'reanalysis',\n",
        "                'variable': 'temperature',\n",
        "                'pressure_level': '100',\n",
        "                'year': '{0}'.format(int(Storm_year)),\n",
        "                'month': '{0}'.format(max_v_month),\n",
        "                'day': '{0}'.format(max_v_day),\n",
        "                'time': '{0}'.format(max_v_hour),\n",
        "                'format': 'netcdf',\n",
        "              },\n",
        "            '/content/drive/MyDrive/Colab Notebooks/{0} Hurricane Data/{1}Pressure.nc'.format(basin,char+str(Storm_year)))\n",
        "          \n",
        "          except:\n",
        "            errorstorms.append(basin+char+str(Storm_year))\n",
        "          finally:\n",
        "            i+=1"
      ]
    },
    {
      "cell_type": "code",
      "source": [
        "print(errorstorms)"
      ],
      "metadata": {
        "id": "adE8YMPtwd5I"
      },
      "execution_count": null,
      "outputs": []
    }
  ],
  "metadata": {
    "colab": {
      "provenance": [],
      "include_colab_link": true
    },
    "kernelspec": {
      "display_name": "Python 3",
      "name": "python3"
    },
    "language_info": {
      "name": "python"
    }
  },
  "nbformat": 4,
  "nbformat_minor": 0
}